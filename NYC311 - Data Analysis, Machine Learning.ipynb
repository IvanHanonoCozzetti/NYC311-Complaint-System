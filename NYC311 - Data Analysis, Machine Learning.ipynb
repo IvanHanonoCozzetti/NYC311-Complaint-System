{
    "cells": [
        {
            "cell_type": "markdown",
            "metadata": {},
            "source": "# NYC311 Complaint System - Data Science and Machine Learning Project"
        },
        {
            "cell_type": "markdown",
            "metadata": {},
            "source": "The people of New Yorker use the 311 system to report complaints about the non-emergency problems to local authorities. Various agencies in New York are assigned these problems. The Department of Housing Preservation and Development of New York City is the agency that processes 311 complaints that are related to housing and buildings.\n\nIn the last few years, the number of 311 complaints coming to the Department of Housing Preservation and Development has increased significantly. Although these complaints are not necessarily urgent, the large volume of complaints and the sudden increase is impacting the overall efficiency of operations of the agency.\nTherefore, we will help to manage the large volume of 311 complaints they are receiving every year.\n\nThe answers to the following questions will be supported by data and analytics:\n1. Which type of complaint should the Department of Housing Preservation and Development of New York City focus on first?\n2. Should the Department of Housing Preservation and Development of New York City focus on any particular set of boroughs, ZIP codes, or streets (where the complaints are severe) for the most important types of complaints?\n3. Do the most important types of complaints have an obvious relationship with any particular characteristic or characteristics of the houses or buildings?\n4. Can a predictive model be built for a future prediction of the possibility of complaints of the type that you identified as the most important types of complaints?\n\nAs the lead data scientist to provide the answers to these questions, I will follow the standard approach of data science and machine learning in order to find the answers.\n"
        },
        {
            "cell_type": "code",
            "execution_count": 1,
            "metadata": {
                "scrolled": true
            },
            "outputs": [],
            "source": "# The code was removed by Watson Studio for sharing."
        },
        {
            "cell_type": "code",
            "execution_count": 2,
            "metadata": {},
            "outputs": [
                {
                    "data": {
                        "text/html": "<div>\n<style scoped>\n    .dataframe tbody tr th:only-of-type {\n        vertical-align: middle;\n    }\n\n    .dataframe tbody tr th {\n        vertical-align: top;\n    }\n\n    .dataframe thead th {\n        text-align: right;\n    }\n</style>\n<table border=\"1\" class=\"dataframe\">\n  <thead>\n    <tr style=\"text-align: right;\">\n      <th></th>\n      <th>Unnamed: 0</th>\n      <th>Unique Key</th>\n      <th>Created Date</th>\n      <th>Closed Date</th>\n      <th>Complaint Type</th>\n      <th>Location Type</th>\n      <th>Incident Zip</th>\n      <th>Incident Address</th>\n      <th>Street Name</th>\n      <th>Address Type</th>\n      <th>City</th>\n      <th>Status</th>\n      <th>Resolution Description</th>\n      <th>Borough</th>\n      <th>Latitude</th>\n      <th>Longitude</th>\n    </tr>\n  </thead>\n  <tbody>\n    <tr>\n      <th>0</th>\n      <td>0</td>\n      <td>45531130</td>\n      <td>02/02/2020 06:09:17 AM</td>\n      <td>NaN</td>\n      <td>HEAT/HOT WATER</td>\n      <td>RESIDENTIAL BUILDING</td>\n      <td>10019.0</td>\n      <td>426 WEST   52 STREET</td>\n      <td>WEST   52 STREET</td>\n      <td>ADDRESS</td>\n      <td>NEW YORK</td>\n      <td>Open</td>\n      <td>The following complaint conditions are still o...</td>\n      <td>MANHATTAN</td>\n      <td>40.765132</td>\n      <td>-73.988993</td>\n    </tr>\n    <tr>\n      <th>1</th>\n      <td>1</td>\n      <td>45529784</td>\n      <td>02/02/2020 02:15:24 PM</td>\n      <td>NaN</td>\n      <td>UNSANITARY CONDITION</td>\n      <td>RESIDENTIAL BUILDING</td>\n      <td>11204.0</td>\n      <td>1751 67 STREET</td>\n      <td>67 STREET</td>\n      <td>ADDRESS</td>\n      <td>BROOKLYN</td>\n      <td>Open</td>\n      <td>The following complaint conditions are still o...</td>\n      <td>BROOKLYN</td>\n      <td>40.618484</td>\n      <td>-73.992673</td>\n    </tr>\n    <tr>\n      <th>2</th>\n      <td>2</td>\n      <td>45527528</td>\n      <td>02/02/2020 02:27:41 AM</td>\n      <td>NaN</td>\n      <td>HEAT/HOT WATER</td>\n      <td>RESIDENTIAL BUILDING</td>\n      <td>11372.0</td>\n      <td>87-15 37 AVENUE</td>\n      <td>37 AVENUE</td>\n      <td>ADDRESS</td>\n      <td>Jackson Heights</td>\n      <td>Open</td>\n      <td>The following complaint conditions are still o...</td>\n      <td>QUEENS</td>\n      <td>40.750269</td>\n      <td>-73.879432</td>\n    </tr>\n    <tr>\n      <th>3</th>\n      <td>3</td>\n      <td>45530329</td>\n      <td>02/02/2020 12:13:18 PM</td>\n      <td>NaN</td>\n      <td>HEAT/HOT WATER</td>\n      <td>RESIDENTIAL BUILDING</td>\n      <td>10458.0</td>\n      <td>2405 SOUTHERN BOULEVARD</td>\n      <td>SOUTHERN BOULEVARD</td>\n      <td>ADDRESS</td>\n      <td>BRONX</td>\n      <td>Open</td>\n      <td>The following complaint conditions are still o...</td>\n      <td>BRONX</td>\n      <td>40.853773</td>\n      <td>-73.881558</td>\n    </tr>\n    <tr>\n      <th>4</th>\n      <td>4</td>\n      <td>45528814</td>\n      <td>02/02/2020 01:59:44 PM</td>\n      <td>NaN</td>\n      <td>APPLIANCE</td>\n      <td>RESIDENTIAL BUILDING</td>\n      <td>11209.0</td>\n      <td>223 78 STREET</td>\n      <td>78 STREET</td>\n      <td>ADDRESS</td>\n      <td>BROOKLYN</td>\n      <td>Open</td>\n      <td>The following complaint conditions are still o...</td>\n      <td>BROOKLYN</td>\n      <td>40.629745</td>\n      <td>-74.030533</td>\n    </tr>\n  </tbody>\n</table>\n</div>",
                        "text/plain": "   Unnamed: 0  Unique Key            Created Date Closed Date  \\\n0           0    45531130  02/02/2020 06:09:17 AM         NaN   \n1           1    45529784  02/02/2020 02:15:24 PM         NaN   \n2           2    45527528  02/02/2020 02:27:41 AM         NaN   \n3           3    45530329  02/02/2020 12:13:18 PM         NaN   \n4           4    45528814  02/02/2020 01:59:44 PM         NaN   \n\n         Complaint Type         Location Type  Incident Zip  \\\n0        HEAT/HOT WATER  RESIDENTIAL BUILDING       10019.0   \n1  UNSANITARY CONDITION  RESIDENTIAL BUILDING       11204.0   \n2        HEAT/HOT WATER  RESIDENTIAL BUILDING       11372.0   \n3        HEAT/HOT WATER  RESIDENTIAL BUILDING       10458.0   \n4             APPLIANCE  RESIDENTIAL BUILDING       11209.0   \n\n          Incident Address         Street Name Address Type             City  \\\n0     426 WEST   52 STREET    WEST   52 STREET      ADDRESS         NEW YORK   \n1           1751 67 STREET           67 STREET      ADDRESS         BROOKLYN   \n2          87-15 37 AVENUE           37 AVENUE      ADDRESS  Jackson Heights   \n3  2405 SOUTHERN BOULEVARD  SOUTHERN BOULEVARD      ADDRESS            BRONX   \n4            223 78 STREET           78 STREET      ADDRESS         BROOKLYN   \n\n  Status                             Resolution Description    Borough  \\\n0   Open  The following complaint conditions are still o...  MANHATTAN   \n1   Open  The following complaint conditions are still o...   BROOKLYN   \n2   Open  The following complaint conditions are still o...     QUEENS   \n3   Open  The following complaint conditions are still o...      BRONX   \n4   Open  The following complaint conditions are still o...   BROOKLYN   \n\n    Latitude  Longitude  \n0  40.765132 -73.988993  \n1  40.618484 -73.992673  \n2  40.750269 -73.879432  \n3  40.853773 -73.881558  \n4  40.629745 -74.030533  "
                    },
                    "execution_count": 2,
                    "metadata": {},
                    "output_type": "execute_result"
                }
            ],
            "source": "df_nyc311_full = pd.read_csv(body)\ndf_nyc311_full.head()"
        },
        {
            "cell_type": "code",
            "execution_count": 3,
            "metadata": {},
            "outputs": [
                {
                    "data": {
                        "text/html": "<div>\n<style scoped>\n    .dataframe tbody tr th:only-of-type {\n        vertical-align: middle;\n    }\n\n    .dataframe tbody tr th {\n        vertical-align: top;\n    }\n\n    .dataframe thead th {\n        text-align: right;\n    }\n</style>\n<table border=\"1\" class=\"dataframe\">\n  <thead>\n    <tr style=\"text-align: right;\">\n      <th></th>\n      <th>Unnamed: 0</th>\n      <th>Unique Key</th>\n      <th>Incident Zip</th>\n      <th>Latitude</th>\n      <th>Longitude</th>\n    </tr>\n    <tr>\n      <th>Created Date</th>\n      <th></th>\n      <th></th>\n      <th></th>\n      <th></th>\n      <th></th>\n    </tr>\n  </thead>\n  <tbody>\n    <tr>\n      <th>01/01/2010 02:31:13 PM</th>\n      <td>177182.0</td>\n      <td>15634460.0</td>\n      <td>NaN</td>\n      <td>NaN</td>\n      <td>NaN</td>\n    </tr>\n    <tr>\n      <th>01/01/2010 02:39:02 PM</th>\n      <td>177179.0</td>\n      <td>15634698.0</td>\n      <td>NaN</td>\n      <td>NaN</td>\n      <td>NaN</td>\n    </tr>\n    <tr>\n      <th>01/01/2010 04:18:46 PM</th>\n      <td>177186.0</td>\n      <td>15633862.0</td>\n      <td>NaN</td>\n      <td>NaN</td>\n      <td>NaN</td>\n    </tr>\n    <tr>\n      <th>01/01/2010 04:59:23 PM</th>\n      <td>177188.0</td>\n      <td>15633410.0</td>\n      <td>NaN</td>\n      <td>NaN</td>\n      <td>NaN</td>\n    </tr>\n    <tr>\n      <th>01/01/2010 05:00:01 AM</th>\n      <td>177180.0</td>\n      <td>15634558.0</td>\n      <td>NaN</td>\n      <td>NaN</td>\n      <td>NaN</td>\n    </tr>\n  </tbody>\n</table>\n</div>",
                        "text/plain": "                        Unnamed: 0  Unique Key  Incident Zip  Latitude  \\\nCreated Date                                                             \n01/01/2010 02:31:13 PM    177182.0  15634460.0           NaN       NaN   \n01/01/2010 02:39:02 PM    177179.0  15634698.0           NaN       NaN   \n01/01/2010 04:18:46 PM    177186.0  15633862.0           NaN       NaN   \n01/01/2010 04:59:23 PM    177188.0  15633410.0           NaN       NaN   \n01/01/2010 05:00:01 AM    177180.0  15634558.0           NaN       NaN   \n\n                        Longitude  \nCreated Date                       \n01/01/2010 02:31:13 PM        NaN  \n01/01/2010 02:39:02 PM        NaN  \n01/01/2010 04:18:46 PM        NaN  \n01/01/2010 04:59:23 PM        NaN  \n01/01/2010 05:00:01 AM        NaN  "
                    },
                    "execution_count": 3,
                    "metadata": {},
                    "output_type": "execute_result"
                }
            ],
            "source": "#The dataset contains complaints logged since 01/01/2020.\ndf_created_date = df_nyc311_full.groupby(['Created Date']).mean()\ndf_created_date.head()"
        },
        {
            "cell_type": "code",
            "execution_count": 4,
            "metadata": {},
            "outputs": [
                {
                    "data": {
                        "text/html": "<div>\n<style scoped>\n    .dataframe tbody tr th:only-of-type {\n        vertical-align: middle;\n    }\n\n    .dataframe tbody tr th {\n        vertical-align: top;\n    }\n\n    .dataframe thead th {\n        text-align: right;\n    }\n</style>\n<table border=\"1\" class=\"dataframe\">\n  <thead>\n    <tr style=\"text-align: right;\">\n      <th></th>\n      <th>Unnamed: 0</th>\n      <th>Unique Key</th>\n      <th>Created Date</th>\n      <th>Closed Date</th>\n      <th>Complaint Type</th>\n      <th>Location Type</th>\n      <th>Incident Zip</th>\n      <th>Incident Address</th>\n      <th>Street Name</th>\n      <th>Address Type</th>\n      <th>City</th>\n      <th>Status</th>\n      <th>Resolution Description</th>\n      <th>Borough</th>\n      <th>Latitude</th>\n      <th>Longitude</th>\n    </tr>\n  </thead>\n  <tbody>\n    <tr>\n      <th>0</th>\n      <td>0</td>\n      <td>45531130</td>\n      <td>02/02/2020 06:09:17 AM</td>\n      <td>NaN</td>\n      <td>HEAT/HOT WATER</td>\n      <td>RESIDENTIAL BUILDING</td>\n      <td>10019.0</td>\n      <td>426 WEST   52 STREET</td>\n      <td>WEST   52 STREET</td>\n      <td>ADDRESS</td>\n      <td>NEW YORK</td>\n      <td>Open</td>\n      <td>The following complaint conditions are still o...</td>\n      <td>MANHATTAN</td>\n      <td>40.765132</td>\n      <td>-73.988993</td>\n    </tr>\n    <tr>\n      <th>1</th>\n      <td>1</td>\n      <td>45529784</td>\n      <td>02/02/2020 02:15:24 PM</td>\n      <td>NaN</td>\n      <td>UNSANITARY CONDITION</td>\n      <td>RESIDENTIAL BUILDING</td>\n      <td>11204.0</td>\n      <td>1751 67 STREET</td>\n      <td>67 STREET</td>\n      <td>ADDRESS</td>\n      <td>BROOKLYN</td>\n      <td>Open</td>\n      <td>The following complaint conditions are still o...</td>\n      <td>BROOKLYN</td>\n      <td>40.618484</td>\n      <td>-73.992673</td>\n    </tr>\n    <tr>\n      <th>2</th>\n      <td>2</td>\n      <td>45527528</td>\n      <td>02/02/2020 02:27:41 AM</td>\n      <td>NaN</td>\n      <td>HEAT/HOT WATER</td>\n      <td>RESIDENTIAL BUILDING</td>\n      <td>11372.0</td>\n      <td>87-15 37 AVENUE</td>\n      <td>37 AVENUE</td>\n      <td>ADDRESS</td>\n      <td>Jackson Heights</td>\n      <td>Open</td>\n      <td>The following complaint conditions are still o...</td>\n      <td>QUEENS</td>\n      <td>40.750269</td>\n      <td>-73.879432</td>\n    </tr>\n    <tr>\n      <th>3</th>\n      <td>3</td>\n      <td>45530329</td>\n      <td>02/02/2020 12:13:18 PM</td>\n      <td>NaN</td>\n      <td>HEAT/HOT WATER</td>\n      <td>RESIDENTIAL BUILDING</td>\n      <td>10458.0</td>\n      <td>2405 SOUTHERN BOULEVARD</td>\n      <td>SOUTHERN BOULEVARD</td>\n      <td>ADDRESS</td>\n      <td>BRONX</td>\n      <td>Open</td>\n      <td>The following complaint conditions are still o...</td>\n      <td>BRONX</td>\n      <td>40.853773</td>\n      <td>-73.881558</td>\n    </tr>\n    <tr>\n      <th>4</th>\n      <td>4</td>\n      <td>45528814</td>\n      <td>02/02/2020 01:59:44 PM</td>\n      <td>NaN</td>\n      <td>APPLIANCE</td>\n      <td>RESIDENTIAL BUILDING</td>\n      <td>11209.0</td>\n      <td>223 78 STREET</td>\n      <td>78 STREET</td>\n      <td>ADDRESS</td>\n      <td>BROOKLYN</td>\n      <td>Open</td>\n      <td>The following complaint conditions are still o...</td>\n      <td>BROOKLYN</td>\n      <td>40.629745</td>\n      <td>-74.030533</td>\n    </tr>\n  </tbody>\n</table>\n</div>",
                        "text/plain": "   Unnamed: 0  Unique Key            Created Date Closed Date  \\\n0           0    45531130  02/02/2020 06:09:17 AM         NaN   \n1           1    45529784  02/02/2020 02:15:24 PM         NaN   \n2           2    45527528  02/02/2020 02:27:41 AM         NaN   \n3           3    45530329  02/02/2020 12:13:18 PM         NaN   \n4           4    45528814  02/02/2020 01:59:44 PM         NaN   \n\n         Complaint Type         Location Type  Incident Zip  \\\n0        HEAT/HOT WATER  RESIDENTIAL BUILDING       10019.0   \n1  UNSANITARY CONDITION  RESIDENTIAL BUILDING       11204.0   \n2        HEAT/HOT WATER  RESIDENTIAL BUILDING       11372.0   \n3        HEAT/HOT WATER  RESIDENTIAL BUILDING       10458.0   \n4             APPLIANCE  RESIDENTIAL BUILDING       11209.0   \n\n          Incident Address         Street Name Address Type             City  \\\n0     426 WEST   52 STREET    WEST   52 STREET      ADDRESS         NEW YORK   \n1           1751 67 STREET           67 STREET      ADDRESS         BROOKLYN   \n2          87-15 37 AVENUE           37 AVENUE      ADDRESS  Jackson Heights   \n3  2405 SOUTHERN BOULEVARD  SOUTHERN BOULEVARD      ADDRESS            BRONX   \n4            223 78 STREET           78 STREET      ADDRESS         BROOKLYN   \n\n  Status                             Resolution Description    Borough  \\\n0   Open  The following complaint conditions are still o...  MANHATTAN   \n1   Open  The following complaint conditions are still o...   BROOKLYN   \n2   Open  The following complaint conditions are still o...     QUEENS   \n3   Open  The following complaint conditions are still o...      BRONX   \n4   Open  The following complaint conditions are still o...   BROOKLYN   \n\n    Latitude  Longitude  \n0  40.765132 -73.988993  \n1  40.618484 -73.992673  \n2  40.750269 -73.879432  \n3  40.853773 -73.881558  \n4  40.629745 -74.030533  "
                    },
                    "execution_count": 4,
                    "metadata": {},
                    "output_type": "execute_result"
                }
            ],
            "source": "#The dataset contains complaints logged until 02/02/2020 (The original dataset is already sorted by most recent date).\ndf_nyc311_full.head()"
        },
        {
            "cell_type": "code",
            "execution_count": 5,
            "metadata": {},
            "outputs": [
                {
                    "data": {
                        "text/plain": "Unnamed: 0                     0\nUnique Key                     0\nCreated Date                   0\nClosed Date               126657\nComplaint Type                 0\nLocation Type              52824\nIncident Zip               80697\nIncident Address           52825\nStreet Name                52825\nAddress Type               84765\nCity                       80274\nStatus                         0\nResolution Description      7826\nBorough                        0\nLatitude                   80671\nLongitude                  80671\ndtype: int64"
                    },
                    "execution_count": 5,
                    "metadata": {},
                    "output_type": "execute_result"
                }
            ],
            "source": "#Incidents with a missing Incident Address: 52825.\ndf_nyc311_full.isnull().sum()"
        },
        {
            "cell_type": "code",
            "execution_count": 6,
            "metadata": {},
            "outputs": [],
            "source": "# The code was removed by Watson Studio for sharing."
        },
        {
            "cell_type": "code",
            "execution_count": 7,
            "metadata": {},
            "outputs": [
                {
                    "name": "stderr",
                    "output_type": "stream",
                    "text": "/opt/conda/envs/Python36/lib/python3.6/site-packages/IPython/core/interactiveshell.py:3020: DtypeWarning: Columns (19,20,22,23,64,65,80) have mixed types. Specify dtype option on import or set low_memory=False.\n  interactivity=interactivity, compiler=compiler, result=result)\n"
                },
                {
                    "data": {
                        "text/html": "<div>\n<style scoped>\n    .dataframe tbody tr th:only-of-type {\n        vertical-align: middle;\n    }\n\n    .dataframe tbody tr th {\n        vertical-align: top;\n    }\n\n    .dataframe thead th {\n        text-align: right;\n    }\n</style>\n<table border=\"1\" class=\"dataframe\">\n  <thead>\n    <tr style=\"text-align: right;\">\n      <th></th>\n      <th>Borough</th>\n      <th>Block</th>\n      <th>Lot</th>\n      <th>CD</th>\n      <th>CT2010</th>\n      <th>CB2010</th>\n      <th>SchoolDist</th>\n      <th>Council</th>\n      <th>ZipCode</th>\n      <th>FireComp</th>\n      <th>...</th>\n      <th>ZMCode</th>\n      <th>Sanborn</th>\n      <th>TaxMap</th>\n      <th>EDesigNum</th>\n      <th>APPBBL</th>\n      <th>APPDate</th>\n      <th>PLUTOMapID</th>\n      <th>FIRM07_FLAG</th>\n      <th>PFIRM15_FLAG</th>\n      <th>Version</th>\n    </tr>\n  </thead>\n  <tbody>\n    <tr>\n      <th>0</th>\n      <td>BX</td>\n      <td>2260</td>\n      <td>1</td>\n      <td>201</td>\n      <td>19.0</td>\n      <td>1022.0</td>\n      <td>7.0</td>\n      <td>8.0</td>\n      <td>10454.0</td>\n      <td>L029</td>\n      <td>...</td>\n      <td>NaN</td>\n      <td>209S016</td>\n      <td>20901.0</td>\n      <td>E-143</td>\n      <td>0.0</td>\n      <td>NaN</td>\n      <td>1</td>\n      <td>NaN</td>\n      <td>NaN</td>\n      <td>18V1</td>\n    </tr>\n    <tr>\n      <th>1</th>\n      <td>BX</td>\n      <td>2260</td>\n      <td>4</td>\n      <td>201</td>\n      <td>19.0</td>\n      <td>1022.0</td>\n      <td>7.0</td>\n      <td>8.0</td>\n      <td>10454.0</td>\n      <td>L029</td>\n      <td>...</td>\n      <td>NaN</td>\n      <td>209S016</td>\n      <td>20901.0</td>\n      <td>E-143</td>\n      <td>0.0</td>\n      <td>NaN</td>\n      <td>1</td>\n      <td>NaN</td>\n      <td>NaN</td>\n      <td>18V1</td>\n    </tr>\n    <tr>\n      <th>2</th>\n      <td>BX</td>\n      <td>2260</td>\n      <td>10</td>\n      <td>201</td>\n      <td>19.0</td>\n      <td>1022.0</td>\n      <td>7.0</td>\n      <td>8.0</td>\n      <td>10454.0</td>\n      <td>L029</td>\n      <td>...</td>\n      <td>NaN</td>\n      <td>209S016</td>\n      <td>20901.0</td>\n      <td>E-143</td>\n      <td>0.0</td>\n      <td>NaN</td>\n      <td>1</td>\n      <td>NaN</td>\n      <td>NaN</td>\n      <td>18V1</td>\n    </tr>\n    <tr>\n      <th>3</th>\n      <td>BX</td>\n      <td>2260</td>\n      <td>17</td>\n      <td>201</td>\n      <td>19.0</td>\n      <td>1022.0</td>\n      <td>7.0</td>\n      <td>8.0</td>\n      <td>10454.0</td>\n      <td>L029</td>\n      <td>...</td>\n      <td>NaN</td>\n      <td>209S016</td>\n      <td>20901.0</td>\n      <td>E-143</td>\n      <td>0.0</td>\n      <td>NaN</td>\n      <td>1</td>\n      <td>NaN</td>\n      <td>NaN</td>\n      <td>18V1</td>\n    </tr>\n    <tr>\n      <th>4</th>\n      <td>BX</td>\n      <td>2260</td>\n      <td>18</td>\n      <td>201</td>\n      <td>19.0</td>\n      <td>1022.0</td>\n      <td>7.0</td>\n      <td>8.0</td>\n      <td>10454.0</td>\n      <td>L029</td>\n      <td>...</td>\n      <td>NaN</td>\n      <td>209S016</td>\n      <td>20901.0</td>\n      <td>E-143</td>\n      <td>0.0</td>\n      <td>NaN</td>\n      <td>1</td>\n      <td>NaN</td>\n      <td>NaN</td>\n      <td>18V1</td>\n    </tr>\n  </tbody>\n</table>\n<p>5 rows \u00d7 87 columns</p>\n</div>",
                        "text/plain": "  Borough  Block  Lot   CD  CT2010  CB2010  SchoolDist  Council  ZipCode  \\\n0      BX   2260    1  201    19.0  1022.0         7.0      8.0  10454.0   \n1      BX   2260    4  201    19.0  1022.0         7.0      8.0  10454.0   \n2      BX   2260   10  201    19.0  1022.0         7.0      8.0  10454.0   \n3      BX   2260   17  201    19.0  1022.0         7.0      8.0  10454.0   \n4      BX   2260   18  201    19.0  1022.0         7.0      8.0  10454.0   \n\n  FireComp  ...  ZMCode  Sanborn   TaxMap  EDesigNum  APPBBL APPDate  \\\n0     L029  ...     NaN  209S016  20901.0      E-143     0.0     NaN   \n1     L029  ...     NaN  209S016  20901.0      E-143     0.0     NaN   \n2     L029  ...     NaN  209S016  20901.0      E-143     0.0     NaN   \n3     L029  ...     NaN  209S016  20901.0      E-143     0.0     NaN   \n4     L029  ...     NaN  209S016  20901.0      E-143     0.0     NaN   \n\n  PLUTOMapID FIRM07_FLAG PFIRM15_FLAG Version  \n0          1         NaN          NaN    18V1  \n1          1         NaN          NaN    18V1  \n2          1         NaN          NaN    18V1  \n3          1         NaN          NaN    18V1  \n4          1         NaN          NaN    18V1  \n\n[5 rows x 87 columns]"
                    },
                    "execution_count": 7,
                    "metadata": {},
                    "output_type": "execute_result"
                }
            ],
            "source": "df_bx = pd.read_csv(body)\ndf_bx.head()"
        },
        {
            "cell_type": "code",
            "execution_count": 8,
            "metadata": {},
            "outputs": [
                {
                    "data": {
                        "text/plain": "26"
                    },
                    "execution_count": 8,
                    "metadata": {},
                    "output_type": "execute_result"
                }
            ],
            "source": "#Valid ZIP Codes in the Bronx PLUTO dataset:26.\ndf_bx_zipcodes = df_bx.groupby(['ZipCode'], as_index=False).mean()\ndf_bx_zipcodes.ZipCode.count()"
        },
        {
            "cell_type": "code",
            "execution_count": 9,
            "metadata": {},
            "outputs": [],
            "source": "# The code was removed by Watson Studio for sharing."
        },
        {
            "cell_type": "code",
            "execution_count": 10,
            "metadata": {},
            "outputs": [
                {
                    "name": "stderr",
                    "output_type": "stream",
                    "text": "/opt/conda/envs/Python36/lib/python3.6/site-packages/IPython/core/interactiveshell.py:3020: DtypeWarning: Columns (19,20,22,23,64,65,77) have mixed types. Specify dtype option on import or set low_memory=False.\n  interactivity=interactivity, compiler=compiler, result=result)\n"
                },
                {
                    "data": {
                        "text/html": "<div>\n<style scoped>\n    .dataframe tbody tr th:only-of-type {\n        vertical-align: middle;\n    }\n\n    .dataframe tbody tr th {\n        vertical-align: top;\n    }\n\n    .dataframe thead th {\n        text-align: right;\n    }\n</style>\n<table border=\"1\" class=\"dataframe\">\n  <thead>\n    <tr style=\"text-align: right;\">\n      <th></th>\n      <th>Borough</th>\n      <th>Block</th>\n      <th>Lot</th>\n      <th>CD</th>\n      <th>CT2010</th>\n      <th>CB2010</th>\n      <th>SchoolDist</th>\n      <th>Council</th>\n      <th>ZipCode</th>\n      <th>FireComp</th>\n      <th>...</th>\n      <th>ZMCode</th>\n      <th>Sanborn</th>\n      <th>TaxMap</th>\n      <th>EDesigNum</th>\n      <th>APPBBL</th>\n      <th>APPDate</th>\n      <th>PLUTOMapID</th>\n      <th>FIRM07_FLAG</th>\n      <th>PFIRM15_FLAG</th>\n      <th>Version</th>\n    </tr>\n  </thead>\n  <tbody>\n    <tr>\n      <th>0</th>\n      <td>QN</td>\n      <td>6</td>\n      <td>1</td>\n      <td>402</td>\n      <td>1.0</td>\n      <td>NaN</td>\n      <td>30.0</td>\n      <td>26.0</td>\n      <td>11101.0</td>\n      <td>L115</td>\n      <td>...</td>\n      <td>Y</td>\n      <td>401 011</td>\n      <td>40101.0</td>\n      <td>NaN</td>\n      <td>4.000060e+09</td>\n      <td>09/20/2013</td>\n      <td>1</td>\n      <td>1.0</td>\n      <td>1.0</td>\n      <td>18V1</td>\n    </tr>\n    <tr>\n      <th>1</th>\n      <td>QN</td>\n      <td>6</td>\n      <td>3</td>\n      <td>402</td>\n      <td>1.0</td>\n      <td>1015.0</td>\n      <td>30.0</td>\n      <td>26.0</td>\n      <td>11101.0</td>\n      <td>L115</td>\n      <td>...</td>\n      <td>NaN</td>\n      <td>401 011</td>\n      <td>40101.0</td>\n      <td>NaN</td>\n      <td>0.000000e+00</td>\n      <td>NaN</td>\n      <td>1</td>\n      <td>1.0</td>\n      <td>1.0</td>\n      <td>18V1</td>\n    </tr>\n    <tr>\n      <th>2</th>\n      <td>QN</td>\n      <td>6</td>\n      <td>8</td>\n      <td>402</td>\n      <td>1.0</td>\n      <td>1011.0</td>\n      <td>30.0</td>\n      <td>26.0</td>\n      <td>11101.0</td>\n      <td>L115</td>\n      <td>...</td>\n      <td>NaN</td>\n      <td>401 011</td>\n      <td>40101.0</td>\n      <td>NaN</td>\n      <td>4.000060e+09</td>\n      <td>08/07/2013</td>\n      <td>1</td>\n      <td>1.0</td>\n      <td>1.0</td>\n      <td>18V1</td>\n    </tr>\n    <tr>\n      <th>3</th>\n      <td>QN</td>\n      <td>6</td>\n      <td>20</td>\n      <td>402</td>\n      <td>1.0</td>\n      <td>NaN</td>\n      <td>30.0</td>\n      <td>26.0</td>\n      <td>11101.0</td>\n      <td>L115</td>\n      <td>...</td>\n      <td>NaN</td>\n      <td>401 011</td>\n      <td>40101.0</td>\n      <td>NaN</td>\n      <td>4.000060e+09</td>\n      <td>09/20/2013</td>\n      <td>1</td>\n      <td>1.0</td>\n      <td>1.0</td>\n      <td>18V1</td>\n    </tr>\n    <tr>\n      <th>4</th>\n      <td>QN</td>\n      <td>6</td>\n      <td>30</td>\n      <td>402</td>\n      <td>1.0</td>\n      <td>NaN</td>\n      <td>30.0</td>\n      <td>26.0</td>\n      <td>11101.0</td>\n      <td>L115</td>\n      <td>...</td>\n      <td>NaN</td>\n      <td>401 011</td>\n      <td>40101.0</td>\n      <td>NaN</td>\n      <td>4.000060e+09</td>\n      <td>09/08/2017</td>\n      <td>1</td>\n      <td>1.0</td>\n      <td>1.0</td>\n      <td>18V1</td>\n    </tr>\n  </tbody>\n</table>\n<p>5 rows \u00d7 87 columns</p>\n</div>",
                        "text/plain": "  Borough  Block  Lot   CD  CT2010  CB2010  SchoolDist  Council  ZipCode  \\\n0      QN      6    1  402     1.0     NaN        30.0     26.0  11101.0   \n1      QN      6    3  402     1.0  1015.0        30.0     26.0  11101.0   \n2      QN      6    8  402     1.0  1011.0        30.0     26.0  11101.0   \n3      QN      6   20  402     1.0     NaN        30.0     26.0  11101.0   \n4      QN      6   30  402     1.0     NaN        30.0     26.0  11101.0   \n\n  FireComp  ...  ZMCode  Sanborn   TaxMap  EDesigNum        APPBBL  \\\n0     L115  ...       Y  401 011  40101.0        NaN  4.000060e+09   \n1     L115  ...     NaN  401 011  40101.0        NaN  0.000000e+00   \n2     L115  ...     NaN  401 011  40101.0        NaN  4.000060e+09   \n3     L115  ...     NaN  401 011  40101.0        NaN  4.000060e+09   \n4     L115  ...     NaN  401 011  40101.0        NaN  4.000060e+09   \n\n      APPDate PLUTOMapID FIRM07_FLAG PFIRM15_FLAG Version  \n0  09/20/2013          1         1.0          1.0    18V1  \n1         NaN          1         1.0          1.0    18V1  \n2  08/07/2013          1         1.0          1.0    18V1  \n3  09/20/2013          1         1.0          1.0    18V1  \n4  09/08/2017          1         1.0          1.0    18V1  \n\n[5 rows x 87 columns]"
                    },
                    "execution_count": 10,
                    "metadata": {},
                    "output_type": "execute_result"
                }
            ],
            "source": "df_qn = pd.read_csv(body)\ndf_qn.head()"
        },
        {
            "cell_type": "code",
            "execution_count": 11,
            "metadata": {},
            "outputs": [
                {
                    "data": {
                        "text/plain": "65"
                    },
                    "execution_count": 11,
                    "metadata": {},
                    "output_type": "execute_result"
                }
            ],
            "source": "#Valid ZIP Codes exist in the Queens PLUTO dataset:65.\ndf_qn_zipcodes = df_qn.groupby(['ZipCode'], as_index=False).mean()\ndf_qn_zipcodes.ZipCode.count()"
        },
        {
            "cell_type": "code",
            "execution_count": 12,
            "metadata": {},
            "outputs": [
                {
                    "data": {
                        "text/html": "<div>\n<style scoped>\n    .dataframe tbody tr th:only-of-type {\n        vertical-align: middle;\n    }\n\n    .dataframe tbody tr th {\n        vertical-align: top;\n    }\n\n    .dataframe thead th {\n        text-align: right;\n    }\n</style>\n<table border=\"1\" class=\"dataframe\">\n  <thead>\n    <tr style=\"text-align: right;\">\n      <th></th>\n      <th>Unnamed: 0</th>\n      <th>Unique Key</th>\n      <th>Created Date</th>\n      <th>Closed Date</th>\n      <th>Complaint Type</th>\n      <th>Location Type</th>\n      <th>Incident Zip</th>\n      <th>Incident Address</th>\n      <th>Street Name</th>\n      <th>Address Type</th>\n      <th>City</th>\n      <th>Status</th>\n      <th>Resolution Description</th>\n      <th>Borough</th>\n      <th>Latitude</th>\n      <th>Longitude</th>\n    </tr>\n  </thead>\n  <tbody>\n    <tr>\n      <th>0</th>\n      <td>0</td>\n      <td>45531130</td>\n      <td>02/02/2020 06:09:17 AM</td>\n      <td>NaN</td>\n      <td>HEAT/HOT WATER</td>\n      <td>RESIDENTIAL BUILDING</td>\n      <td>10019.0</td>\n      <td>426 WEST   52 STREET</td>\n      <td>WEST   52 STREET</td>\n      <td>ADDRESS</td>\n      <td>NEW YORK</td>\n      <td>Open</td>\n      <td>The following complaint conditions are still o...</td>\n      <td>MANHATTAN</td>\n      <td>40.765132</td>\n      <td>-73.988993</td>\n    </tr>\n    <tr>\n      <th>1</th>\n      <td>1</td>\n      <td>45529784</td>\n      <td>02/02/2020 02:15:24 PM</td>\n      <td>NaN</td>\n      <td>UNSANITARY CONDITION</td>\n      <td>RESIDENTIAL BUILDING</td>\n      <td>11204.0</td>\n      <td>1751 67 STREET</td>\n      <td>67 STREET</td>\n      <td>ADDRESS</td>\n      <td>BROOKLYN</td>\n      <td>Open</td>\n      <td>The following complaint conditions are still o...</td>\n      <td>BROOKLYN</td>\n      <td>40.618484</td>\n      <td>-73.992673</td>\n    </tr>\n    <tr>\n      <th>2</th>\n      <td>2</td>\n      <td>45527528</td>\n      <td>02/02/2020 02:27:41 AM</td>\n      <td>NaN</td>\n      <td>HEAT/HOT WATER</td>\n      <td>RESIDENTIAL BUILDING</td>\n      <td>11372.0</td>\n      <td>87-15 37 AVENUE</td>\n      <td>37 AVENUE</td>\n      <td>ADDRESS</td>\n      <td>Jackson Heights</td>\n      <td>Open</td>\n      <td>The following complaint conditions are still o...</td>\n      <td>QUEENS</td>\n      <td>40.750269</td>\n      <td>-73.879432</td>\n    </tr>\n    <tr>\n      <th>3</th>\n      <td>3</td>\n      <td>45530329</td>\n      <td>02/02/2020 12:13:18 PM</td>\n      <td>NaN</td>\n      <td>HEAT/HOT WATER</td>\n      <td>RESIDENTIAL BUILDING</td>\n      <td>10458.0</td>\n      <td>2405 SOUTHERN BOULEVARD</td>\n      <td>SOUTHERN BOULEVARD</td>\n      <td>ADDRESS</td>\n      <td>BRONX</td>\n      <td>Open</td>\n      <td>The following complaint conditions are still o...</td>\n      <td>BRONX</td>\n      <td>40.853773</td>\n      <td>-73.881558</td>\n    </tr>\n    <tr>\n      <th>4</th>\n      <td>4</td>\n      <td>45528814</td>\n      <td>02/02/2020 01:59:44 PM</td>\n      <td>NaN</td>\n      <td>APPLIANCE</td>\n      <td>RESIDENTIAL BUILDING</td>\n      <td>11209.0</td>\n      <td>223 78 STREET</td>\n      <td>78 STREET</td>\n      <td>ADDRESS</td>\n      <td>BROOKLYN</td>\n      <td>Open</td>\n      <td>The following complaint conditions are still o...</td>\n      <td>BROOKLYN</td>\n      <td>40.629745</td>\n      <td>-74.030533</td>\n    </tr>\n  </tbody>\n</table>\n</div>",
                        "text/plain": "   Unnamed: 0  Unique Key            Created Date Closed Date  \\\n0           0    45531130  02/02/2020 06:09:17 AM         NaN   \n1           1    45529784  02/02/2020 02:15:24 PM         NaN   \n2           2    45527528  02/02/2020 02:27:41 AM         NaN   \n3           3    45530329  02/02/2020 12:13:18 PM         NaN   \n4           4    45528814  02/02/2020 01:59:44 PM         NaN   \n\n         Complaint Type         Location Type  Incident Zip  \\\n0        HEAT/HOT WATER  RESIDENTIAL BUILDING       10019.0   \n1  UNSANITARY CONDITION  RESIDENTIAL BUILDING       11204.0   \n2        HEAT/HOT WATER  RESIDENTIAL BUILDING       11372.0   \n3        HEAT/HOT WATER  RESIDENTIAL BUILDING       10458.0   \n4             APPLIANCE  RESIDENTIAL BUILDING       11209.0   \n\n          Incident Address         Street Name Address Type             City  \\\n0     426 WEST   52 STREET    WEST   52 STREET      ADDRESS         NEW YORK   \n1           1751 67 STREET           67 STREET      ADDRESS         BROOKLYN   \n2          87-15 37 AVENUE           37 AVENUE      ADDRESS  Jackson Heights   \n3  2405 SOUTHERN BOULEVARD  SOUTHERN BOULEVARD      ADDRESS            BRONX   \n4            223 78 STREET           78 STREET      ADDRESS         BROOKLYN   \n\n  Status                             Resolution Description    Borough  \\\n0   Open  The following complaint conditions are still o...  MANHATTAN   \n1   Open  The following complaint conditions are still o...   BROOKLYN   \n2   Open  The following complaint conditions are still o...     QUEENS   \n3   Open  The following complaint conditions are still o...      BRONX   \n4   Open  The following complaint conditions are still o...   BROOKLYN   \n\n    Latitude  Longitude  \n0  40.765132 -73.988993  \n1  40.618484 -73.992673  \n2  40.750269 -73.879432  \n3  40.853773 -73.881558  \n4  40.629745 -74.030533  "
                    },
                    "execution_count": 12,
                    "metadata": {},
                    "output_type": "execute_result"
                }
            ],
            "source": "df_nyc311_full.head()"
        },
        {
            "cell_type": "code",
            "execution_count": 13,
            "metadata": {},
            "outputs": [
                {
                    "data": {
                        "text/plain": "6019843"
                    },
                    "execution_count": 13,
                    "metadata": {},
                    "output_type": "execute_result"
                }
            ],
            "source": "#Total number of complaints that exist in the dataset: 6019843.\ndf_nyc311_full = df_nyc311_full.rename(columns={'Unnamed: 0': 'Complaint Number'})\ndf_nyc311_full['Complaint Number'].count()"
        },
        {
            "cell_type": "code",
            "execution_count": 14,
            "metadata": {},
            "outputs": [
                {
                    "data": {
                        "text/html": "<div>\n<style scoped>\n    .dataframe tbody tr th:only-of-type {\n        vertical-align: middle;\n    }\n\n    .dataframe tbody tr th {\n        vertical-align: top;\n    }\n\n    .dataframe thead th {\n        text-align: right;\n    }\n</style>\n<table border=\"1\" class=\"dataframe\">\n  <thead>\n    <tr style=\"text-align: right;\">\n      <th></th>\n      <th>Complaint Type</th>\n      <th>Complaint Number</th>\n      <th>Unique Key</th>\n      <th>Incident Zip</th>\n      <th>Latitude</th>\n      <th>Longitude</th>\n    </tr>\n  </thead>\n  <tbody>\n    <tr>\n      <th>0</th>\n      <td>AGENCY</td>\n      <td>3.672882e+06</td>\n      <td>3.416003e+07</td>\n      <td>10722.625000</td>\n      <td>40.761880</td>\n      <td>-73.896024</td>\n    </tr>\n    <tr>\n      <th>1</th>\n      <td>APPLIANCE</td>\n      <td>3.200409e+06</td>\n      <td>3.038593e+07</td>\n      <td>10747.527259</td>\n      <td>40.755069</td>\n      <td>-73.916624</td>\n    </tr>\n    <tr>\n      <th>2</th>\n      <td>Appliance</td>\n      <td>4.545061e+06</td>\n      <td>4.331047e+07</td>\n      <td>11260.500000</td>\n      <td>40.695551</td>\n      <td>-73.939291</td>\n    </tr>\n    <tr>\n      <th>3</th>\n      <td>CONSTRUCTION</td>\n      <td>1.522862e+06</td>\n      <td>2.198996e+07</td>\n      <td>10813.531126</td>\n      <td>40.738134</td>\n      <td>-73.923463</td>\n    </tr>\n    <tr>\n      <th>4</th>\n      <td>DOOR/WINDOW</td>\n      <td>4.295417e+06</td>\n      <td>3.519916e+07</td>\n      <td>10736.985590</td>\n      <td>40.754592</td>\n      <td>-73.920945</td>\n    </tr>\n    <tr>\n      <th>5</th>\n      <td>ELECTRIC</td>\n      <td>2.906821e+06</td>\n      <td>2.853808e+07</td>\n      <td>10812.326386</td>\n      <td>40.743550</td>\n      <td>-73.917524</td>\n    </tr>\n    <tr>\n      <th>6</th>\n      <td>ELEVATOR</td>\n      <td>4.394605e+06</td>\n      <td>3.628090e+07</td>\n      <td>10739.323214</td>\n      <td>40.752612</td>\n      <td>-73.922430</td>\n    </tr>\n    <tr>\n      <th>7</th>\n      <td>Electric</td>\n      <td>1.969940e+05</td>\n      <td>4.328233e+07</td>\n      <td>10032.000000</td>\n      <td>40.837228</td>\n      <td>-73.944223</td>\n    </tr>\n    <tr>\n      <th>8</th>\n      <td>FLOORING/STAIRS</td>\n      <td>4.310539e+06</td>\n      <td>3.492654e+07</td>\n      <td>10709.584722</td>\n      <td>40.758843</td>\n      <td>-73.922732</td>\n    </tr>\n    <tr>\n      <th>9</th>\n      <td>GENERAL</td>\n      <td>4.209156e+06</td>\n      <td>3.492886e+07</td>\n      <td>10688.395195</td>\n      <td>40.754715</td>\n      <td>-73.924981</td>\n    </tr>\n    <tr>\n      <th>10</th>\n      <td>GENERAL CONSTRUCTION</td>\n      <td>1.517689e+06</td>\n      <td>2.194099e+07</td>\n      <td>10775.076431</td>\n      <td>40.749700</td>\n      <td>-73.920726</td>\n    </tr>\n    <tr>\n      <th>11</th>\n      <td>General</td>\n      <td>5.910580e+06</td>\n      <td>4.319368e+07</td>\n      <td>10696.431288</td>\n      <td>40.757472</td>\n      <td>-73.923597</td>\n    </tr>\n    <tr>\n      <th>12</th>\n      <td>HEAT/HOT WATER</td>\n      <td>4.087170e+06</td>\n      <td>3.599271e+07</td>\n      <td>10715.543965</td>\n      <td>40.760565</td>\n      <td>-73.919690</td>\n    </tr>\n    <tr>\n      <th>13</th>\n      <td>HEATING</td>\n      <td>1.622637e+06</td>\n      <td>2.247568e+07</td>\n      <td>10725.664528</td>\n      <td>40.758643</td>\n      <td>-73.919172</td>\n    </tr>\n    <tr>\n      <th>14</th>\n      <td>HPD Literature Request</td>\n      <td>1.914373e+05</td>\n      <td>2.776405e+07</td>\n      <td>NaN</td>\n      <td>NaN</td>\n      <td>NaN</td>\n    </tr>\n    <tr>\n      <th>15</th>\n      <td>Mold</td>\n      <td>5.999756e+06</td>\n      <td>4.346647e+07</td>\n      <td>11230.000000</td>\n      <td>40.611852</td>\n      <td>-73.959802</td>\n    </tr>\n    <tr>\n      <th>16</th>\n      <td>NONCONST</td>\n      <td>1.507166e+06</td>\n      <td>2.190752e+07</td>\n      <td>10806.332513</td>\n      <td>40.744043</td>\n      <td>-73.919941</td>\n    </tr>\n    <tr>\n      <th>17</th>\n      <td>OUTSIDE BUILDING</td>\n      <td>4.162153e+06</td>\n      <td>3.419075e+07</td>\n      <td>10801.688630</td>\n      <td>40.736035</td>\n      <td>-73.923460</td>\n    </tr>\n    <tr>\n      <th>18</th>\n      <td>Outside Building</td>\n      <td>5.987177e+06</td>\n      <td>4.321107e+07</td>\n      <td>10998.833333</td>\n      <td>40.672312</td>\n      <td>-73.942636</td>\n    </tr>\n    <tr>\n      <th>19</th>\n      <td>PAINT - PLASTER</td>\n      <td>1.501998e+06</td>\n      <td>2.186794e+07</td>\n      <td>10764.905768</td>\n      <td>40.753160</td>\n      <td>-73.920676</td>\n    </tr>\n    <tr>\n      <th>20</th>\n      <td>PAINT/PLASTER</td>\n      <td>4.238254e+06</td>\n      <td>3.460125e+07</td>\n      <td>10725.062993</td>\n      <td>40.758593</td>\n      <td>-73.920440</td>\n    </tr>\n    <tr>\n      <th>21</th>\n      <td>PLUMBING</td>\n      <td>2.645533e+06</td>\n      <td>2.733991e+07</td>\n      <td>10762.811290</td>\n      <td>40.751179</td>\n      <td>-73.919437</td>\n    </tr>\n    <tr>\n      <th>22</th>\n      <td>Plumbing</td>\n      <td>5.985078e+06</td>\n      <td>4.319189e+07</td>\n      <td>10865.363636</td>\n      <td>40.725652</td>\n      <td>-73.919633</td>\n    </tr>\n    <tr>\n      <th>23</th>\n      <td>SAFETY</td>\n      <td>4.302313e+06</td>\n      <td>3.535633e+07</td>\n      <td>10807.134557</td>\n      <td>40.742755</td>\n      <td>-73.919610</td>\n    </tr>\n    <tr>\n      <th>24</th>\n      <td>STRUCTURAL</td>\n      <td>2.549386e+06</td>\n      <td>2.652207e+07</td>\n      <td>10794.187500</td>\n      <td>40.762322</td>\n      <td>-73.909392</td>\n    </tr>\n    <tr>\n      <th>25</th>\n      <td>Safety</td>\n      <td>5.917121e+06</td>\n      <td>4.319714e+07</td>\n      <td>10787.103774</td>\n      <td>40.750353</td>\n      <td>-73.917119</td>\n    </tr>\n    <tr>\n      <th>26</th>\n      <td>UNSANITARY CONDITION</td>\n      <td>4.297844e+06</td>\n      <td>3.546044e+07</td>\n      <td>10768.101590</td>\n      <td>40.748890</td>\n      <td>-73.919409</td>\n    </tr>\n    <tr>\n      <th>27</th>\n      <td>Unsanitary Condition</td>\n      <td>5.955936e+06</td>\n      <td>4.319548e+07</td>\n      <td>10752.635618</td>\n      <td>40.753433</td>\n      <td>-73.918915</td>\n    </tr>\n    <tr>\n      <th>28</th>\n      <td>VACANT APARTMENT</td>\n      <td>4.315708e+06</td>\n      <td>3.430194e+07</td>\n      <td>10494.666667</td>\n      <td>40.762084</td>\n      <td>-73.905789</td>\n    </tr>\n    <tr>\n      <th>29</th>\n      <td>WATER LEAK</td>\n      <td>4.282208e+06</td>\n      <td>3.535161e+07</td>\n      <td>10753.494779</td>\n      <td>40.753171</td>\n      <td>-73.919854</td>\n    </tr>\n  </tbody>\n</table>\n</div>",
                        "text/plain": "            Complaint Type  Complaint Number    Unique Key  Incident Zip  \\\n0                   AGENCY      3.672882e+06  3.416003e+07  10722.625000   \n1                APPLIANCE      3.200409e+06  3.038593e+07  10747.527259   \n2                Appliance      4.545061e+06  4.331047e+07  11260.500000   \n3             CONSTRUCTION      1.522862e+06  2.198996e+07  10813.531126   \n4              DOOR/WINDOW      4.295417e+06  3.519916e+07  10736.985590   \n5                 ELECTRIC      2.906821e+06  2.853808e+07  10812.326386   \n6                 ELEVATOR      4.394605e+06  3.628090e+07  10739.323214   \n7                 Electric      1.969940e+05  4.328233e+07  10032.000000   \n8          FLOORING/STAIRS      4.310539e+06  3.492654e+07  10709.584722   \n9                  GENERAL      4.209156e+06  3.492886e+07  10688.395195   \n10    GENERAL CONSTRUCTION      1.517689e+06  2.194099e+07  10775.076431   \n11                 General      5.910580e+06  4.319368e+07  10696.431288   \n12          HEAT/HOT WATER      4.087170e+06  3.599271e+07  10715.543965   \n13                 HEATING      1.622637e+06  2.247568e+07  10725.664528   \n14  HPD Literature Request      1.914373e+05  2.776405e+07           NaN   \n15                    Mold      5.999756e+06  4.346647e+07  11230.000000   \n16                NONCONST      1.507166e+06  2.190752e+07  10806.332513   \n17        OUTSIDE BUILDING      4.162153e+06  3.419075e+07  10801.688630   \n18        Outside Building      5.987177e+06  4.321107e+07  10998.833333   \n19         PAINT - PLASTER      1.501998e+06  2.186794e+07  10764.905768   \n20           PAINT/PLASTER      4.238254e+06  3.460125e+07  10725.062993   \n21                PLUMBING      2.645533e+06  2.733991e+07  10762.811290   \n22                Plumbing      5.985078e+06  4.319189e+07  10865.363636   \n23                  SAFETY      4.302313e+06  3.535633e+07  10807.134557   \n24              STRUCTURAL      2.549386e+06  2.652207e+07  10794.187500   \n25                  Safety      5.917121e+06  4.319714e+07  10787.103774   \n26    UNSANITARY CONDITION      4.297844e+06  3.546044e+07  10768.101590   \n27    Unsanitary Condition      5.955936e+06  4.319548e+07  10752.635618   \n28        VACANT APARTMENT      4.315708e+06  3.430194e+07  10494.666667   \n29              WATER LEAK      4.282208e+06  3.535161e+07  10753.494779   \n\n     Latitude  Longitude  \n0   40.761880 -73.896024  \n1   40.755069 -73.916624  \n2   40.695551 -73.939291  \n3   40.738134 -73.923463  \n4   40.754592 -73.920945  \n5   40.743550 -73.917524  \n6   40.752612 -73.922430  \n7   40.837228 -73.944223  \n8   40.758843 -73.922732  \n9   40.754715 -73.924981  \n10  40.749700 -73.920726  \n11  40.757472 -73.923597  \n12  40.760565 -73.919690  \n13  40.758643 -73.919172  \n14        NaN        NaN  \n15  40.611852 -73.959802  \n16  40.744043 -73.919941  \n17  40.736035 -73.923460  \n18  40.672312 -73.942636  \n19  40.753160 -73.920676  \n20  40.758593 -73.920440  \n21  40.751179 -73.919437  \n22  40.725652 -73.919633  \n23  40.742755 -73.919610  \n24  40.762322 -73.909392  \n25  40.750353 -73.917119  \n26  40.748890 -73.919409  \n27  40.753433 -73.918915  \n28  40.762084 -73.905789  \n29  40.753171 -73.919854  "
                    },
                    "execution_count": 14,
                    "metadata": {},
                    "output_type": "execute_result"
                }
            ],
            "source": "#Differnt Complaint Types in the dataset.\ndf_nyc311_complainttype = df_nyc311_full.groupby(['Complaint Type'], as_index=False).mean()\ndf_nyc311_complainttype"
        },
        {
            "cell_type": "code",
            "execution_count": 15,
            "metadata": {},
            "outputs": [
                {
                    "data": {
                        "text/plain": "Complaint Type      30\nComplaint Number    30\nUnique Key          30\nIncident Zip        29\nLatitude            29\nLongitude           29\ndtype: int64"
                    },
                    "execution_count": 15,
                    "metadata": {},
                    "output_type": "execute_result"
                }
            ],
            "source": "#Differnt Complaint Types in the dataset.\ndf_nyc311_complainttype.count()"
        },
        {
            "cell_type": "code",
            "execution_count": 16,
            "metadata": {},
            "outputs": [
                {
                    "data": {
                        "text/plain": "HEAT/HOT WATER            1261574\nHEATING                    887850\nPLUMBING                   711130\nGENERAL CONSTRUCTION       500863\nUNSANITARY CONDITION       451643\nPAINT - PLASTER            361257\nPAINT/PLASTER              346438\nELECTRIC                   307310\nNONCONST                   260890\nDOOR/WINDOW                205278\nWATER LEAK                 193631\nGENERAL                    151308\nFLOORING/STAIRS            137402\nAPPLIANCE                  112831\nHPD Literature Request      52824\nSAFETY                      51529\nOUTSIDE BUILDING             7142\nELEVATOR                     6725\nUnsanitary Condition         5499\nCONSTRUCTION                 5078\nGeneral                      1163\nSafety                        424\nSTRUCTURAL                     16\nPlumbing                       11\nAGENCY                          9\nVACANT APARTMENT                6\nOutside Building                6\nAppliance                       4\nMold                            1\nElectric                        1\nName: Complaint Type, dtype: int64"
                    },
                    "execution_count": 16,
                    "metadata": {},
                    "output_type": "execute_result"
                }
            ],
            "source": "#Elevator complaints in the dataset ~ 6725\n#Electric complaints in the dataset ~ 307311 (Electric complaints appear as ELECTRIC, and as Electric)\n#Setting 800,000 as a threshold, complaint types recommended to the Department of Housing Preservation and Development of New York City to address first:\n#A-HEAT/HOT WATER , B-HEATING\ndf_nyc311_full['Complaint Type'].value_counts()"
        },
        {
            "cell_type": "code",
            "execution_count": 17,
            "metadata": {},
            "outputs": [
                {
                    "data": {
                        "text/plain": "Borough      Complaint Type      \nBRONX        HEAT/HOT WATER          410853\nBROOKLYN     HEAT/HOT WATER          384523\nMANHATTAN    HEAT/HOT WATER          285526\nUnspecified  HEATING                 282916\nBROOKLYN     PLUMBING                204287\nBRONX        HEATING                 195280\nBROOKLYN     HEATING                 190322\nBRONX        PLUMBING                179872\nQUEENS       HEAT/HOT WATER          168318\nBROOKLYN     UNSANITARY CONDITION    154272\nUnspecified  GENERAL CONSTRUCTION    150277\nMANHATTAN    HEATING                 137513\nBRONX        UNSANITARY CONDITION    136843\nBROOKLYN     GENERAL CONSTRUCTION    132848\nUnspecified  PLUMBING                132296\nBROOKLYN     PAINT/PLASTER           116220\nBRONX        PAINT/PLASTER           115679\nMANHATTAN    PLUMBING                111365\nUnspecified  PAINT - PLASTER         110072\nBRONX        GENERAL CONSTRUCTION    107868\ndtype: int64"
                    },
                    "execution_count": 17,
                    "metadata": {},
                    "output_type": "execute_result"
                }
            ],
            "source": "#Borough that has the highest number of complaints submitted setting 800,000 as a threshold: Bronx\ndf_nyc311_full.groupby(['Borough', 'Complaint Type']).size().sort_values(ascending=False).head(20)"
        },
        {
            "cell_type": "code",
            "execution_count": 18,
            "metadata": {},
            "outputs": [
                {
                    "data": {
                        "text/plain": "Borough        Complaint Type      \nUnspecified    HEAT/HOT WATER              1\nSTATEN ISLAND  STRUCTURAL                  1\nBROOKLYN       Mold                        1\n               Outside Building            1\nMANHATTAN      Electric                    1\nBROOKLYN       AGENCY                      1\nQUEENS         Appliance                   1\nMANHATTAN      Plumbing                    2\nQUEENS         AGENCY                      2\n               Plumbing                    2\n               VACANT APARTMENT            2\nSTATEN ISLAND  Outside Building            2\nBRONX          Plumbing                    2\nMANHATTAN      STRUCTURAL                  3\n               AGENCY                      3\nBROOKLYN       Appliance                   3\nQUEENS         Outside Building            3\nBRONX          AGENCY                      3\n               STRUCTURAL                  4\nMANHATTAN      VACANT APARTMENT            4\nQUEENS         STRUCTURAL                  4\nBROOKLYN       STRUCTURAL                  4\n               Plumbing                    5\nSTATEN ISLAND  Safety                     14\nUnspecified    Unsanitary Condition       18\n               General                    22\nSTATEN ISLAND  General                    26\nMANHATTAN      Safety                     65\nSTATEN ISLAND  ELEVATOR                   65\nQUEENS         Safety                     70\n                                       ...  \n               OUTSIDE BUILDING         1088\nSTATEN ISLAND  SAFETY                   1226\nBROOKLYN       CONSTRUCTION             1444\nMANHATTAN      OUTSIDE BUILDING         1463\nUnspecified    CONSTRUCTION             1526\nBRONX          OUTSIDE BUILDING         1580\nMANHATTAN      ELEVATOR                 1677\nBRONX          Unsanitary Condition     1753\n               ELEVATOR                 1801\nBROOKLYN       Unsanitary Condition     1814\n               ELEVATOR                 2116\nSTATEN ISLAND  APPLIANCE                2238\n               GENERAL                  2338\n               FLOORING/STAIRS          2655\nBROOKLYN       OUTSIDE BUILDING         2761\nSTATEN ISLAND  WATER LEAK               3488\n               NONCONST                 3905\n               DOOR/WINDOW              4187\n               PAINT - PLASTER          4232\n               PAINT/PLASTER            5918\n               HEATING                  6015\n               ELECTRIC                 6391\n               GENERAL CONSTRUCTION     8358\nQUEENS         SAFETY                   8535\nMANHATTAN      SAFETY                   9395\nSTATEN ISLAND  UNSANITARY CONDITION    11174\nQUEENS         APPLIANCE               11754\nSTATEN ISLAND  HEAT/HOT WATER          12353\n               PLUMBING                12476\nQUEENS         FLOORING/STAIRS         12907\nLength: 75, dtype: int64"
                    },
                    "execution_count": 18,
                    "metadata": {},
                    "output_type": "execute_result"
                }
            ],
            "source": "#Borough had the lowest number of complaints submitted setting 800,000 as a threshold: Staten Island\ndf_nyc311_full.groupby(['Borough', 'Complaint Type']).size().sort_values().head(75)"
        },
        {
            "cell_type": "code",
            "execution_count": 19,
            "metadata": {},
            "outputs": [
                {
                    "data": {
                        "text/plain": "Incident Zip  Complaint Type\n11226.0       HEAT/HOT WATER    41786\n10458.0       HEAT/HOT WATER    38864\n10467.0       HEAT/HOT WATER    38110\n10468.0       HEAT/HOT WATER    34507\n10453.0       HEAT/HOT WATER    34241\n11226.0       PLUMBING          28534\n10457.0       HEAT/HOT WATER    28295\n10452.0       HEAT/HOT WATER    28118\n10467.0       HEATING           27963\n10031.0       HEAT/HOT WATER    27274\n11226.0       HEATING           27255\n10458.0       HEATING           26508\n10456.0       HEAT/HOT WATER    25660\n10462.0       HEAT/HOT WATER    25523\n11225.0       HEAT/HOT WATER    25194\n10468.0       HEATING           23683\n10453.0       HEATING           23577\n11213.0       HEAT/HOT WATER    22916\n10040.0       HEATING           22264\n              HEAT/HOT WATER    22214\ndtype: int64"
                    },
                    "execution_count": 19,
                    "metadata": {},
                    "output_type": "execute_result"
                }
            ],
            "source": "#ZIP code with the highest number of complainted submitted setting 800,000 as a threshold: 11226.\ndf_nyc311_full.groupby(['Incident Zip', 'Complaint Type']).size().sort_values(ascending=False).head(20)"
        },
        {
            "cell_type": "code",
            "execution_count": 20,
            "metadata": {},
            "outputs": [
                {
                    "data": {
                        "text/plain": "Incident Address                Complaint Type      \n89-21 ELMHURST AVENUE           HEAT/HOT WATER          10896\n34 ARDEN STREET                 HEATING                  8893\n1025 BOYNTON AVENUE             HEAT/HOT WATER           5220\n3810 BAILEY AVENUE              HEATING                  5172\n34 ARDEN STREET                 HEAT/HOT WATER           4965\n9511 SHORE ROAD                 HEAT/HOT WATER           4587\n2090 EAST TREMONT AVENUE        HEAT/HOT WATER           3615\n72-10 41 AVENUE                 HEAT/HOT WATER           2810\n1711 FULTON STREET              HEAT/HOT WATER           2776\n2968 PERRY AVENUE               HEAT/HOT WATER           2462\n97 SHERMAN AVENUE               HEATING                  2412\n2750 HOMECREST AVENUE           HEAT/HOT WATER           2390\n2040 BRONXDALE AVENUE           HEAT/HOT WATER           2277\n888 GRAND CONCOURSE             HEAT/HOT WATER           2264\n1425 DR M L KING JR BOULEVARD   HEAT/HOT WATER           2236\n266 BEDFORD PARK BOULEVARD      HEAT/HOT WATER           2143\n2176 TIEBOUT AVENUE             HEAT/HOT WATER           2085\n98-10 64 AVENUE                 ELECTRIC                 2048\n3810 BAILEY AVENUE              HEAT/HOT WATER           1943\n1030 BOYNTON AVENUE             HEAT/HOT WATER           1907\n30 BUCHANAN PLACE               HEAT/HOT WATER           1809\n109 NORTH    7 STREET           HEAT/HOT WATER           1712\n2074 WALLACE AVENUE             HEAT/HOT WATER           1686\n957 WOODYCREST AVENUE           HEATING                  1527\n750 GRAND CONCOURSE             HEAT/HOT WATER           1515\n1025 BOYNTON AVENUE             UNSANITARY CONDITION     1480\n2410 WASHINGTON AVENUE          HEAT/HOT WATER           1459\n381 VERNON AVENUE               HEAT/HOT WATER           1421\n2856 WEBB AVENUE                HEAT/HOT WATER           1352\n3605 SEDGWICK AVENUE            HEAT/HOT WATER           1320\n116 EAST MOSHOLU PARKWAY SOUTH  HEATING                  1302\n712 CROWN STREET                HEAT/HOT WATER           1238\n2664 GRAND CONCOURSE            HEAT/HOT WATER           1161\n554 DE KALB AVENUE              HEAT/HOT WATER           1145\n635 WEST 170 STREET             HEATING                  1134\n2500 WEBB AVENUE                HEAT/HOT WATER           1126\n170 HAWTHORNE STREET            HEAT/HOT WATER           1101\n417 LORIMER STREET              HEAT/HOT WATER           1061\n2074 WALLACE AVENUE             HEATING                  1051\n89-21 ELMHURST AVENUE           UNSANITARY CONDITION     1034\n644 RIVERSIDE DRIVE             HEAT/HOT WATER           1027\n2995 BOTANICAL SQUARE           HEAT/HOT WATER           1018\n139 EAST   27 STREET            HEAT/HOT WATER           1009\n2625 GRAND CONCOURSE            HEAT/HOT WATER           1006\n1225 SHERIDAN AVENUE            HEAT/HOT WATER            992\n888 GRAND CONCOURSE             HEATING                   987\n3607 BROADWAY                   HEAT/HOT WATER            925\n883 EAST  180 STREET            HEAT/HOT WATER            913\n223 LINDEN BOULEVARD            HEAT/HOT WATER            906\n20 WEST MOSHOLU PARKWAY SOUTH   HEATING                   904\ndtype: int64"
                    },
                    "execution_count": 20,
                    "metadata": {},
                    "output_type": "execute_result"
                }
            ],
            "source": "#The address 89-21 Elmhurst Avenue had the highest number of complainted submitted (setting 800,000 as a threshold).\ndf_nyc311_full.groupby(['Incident Address', 'Complaint Type']).size().sort_values(ascending=False).head(50)"
        },
        {
            "cell_type": "code",
            "execution_count": 21,
            "metadata": {},
            "outputs": [
                {
                    "data": {
                        "text/plain": "Status       Complaint Type        \nClosed       HEAT/HOT WATER            1256876\n             HEATING                    876455\n             PLUMBING                   685071\n             GENERAL CONSTRUCTION       471240\n             UNSANITARY CONDITION       448141\n             PAINT/PLASTER              344807\n             PAINT - PLASTER            339610\n             ELECTRIC                   298082\n             NONCONST                   245612\n             DOOR/WINDOW                204059\n             WATER LEAK                 192289\n             GENERAL                    150053\n             FLOORING/STAIRS            136595\n             APPLIANCE                  109058\n             HPD Literature Request      51744\n             SAFETY                      51261\nOpen         GENERAL CONSTRUCTION        29623\n             PLUMBING                    26059\n             PAINT - PLASTER             21647\n             NONCONST                    15278\n             HEATING                     11393\n             ELECTRIC                     9228\nClosed       OUTSIDE BUILDING             7086\n             ELEVATOR                     6631\n             Unsanitary Condition         5253\n             CONSTRUCTION                 4812\nOpen         HEAT/HOT WATER               4698\n             APPLIANCE                    3773\n             UNSANITARY CONDITION         3502\n             PAINT/PLASTER                1631\n             WATER LEAK                   1342\n             GENERAL                      1255\n             DOOR/WINDOW                  1219\n             HPD Literature Request       1076\nClosed       General                      1067\nOpen         FLOORING/STAIRS               807\nClosed       Safety                        405\nOpen         SAFETY                        268\n             CONSTRUCTION                  266\nIn Progress  Unsanitary Condition          246\n             General                        96\nOpen         ELEVATOR                       94\n             OUTSIDE BUILDING               56\nIn Progress  Safety                         19\nClosed       STRUCTURAL                     16\n             Plumbing                       11\n             AGENCY                          9\n             Outside Building                6\nOpen         VACANT APARTMENT                5\nAssigned     HPD Literature Request          4\nClosed       Appliance                       2\nIn Progress  Appliance                       2\nPending      HEATING                         2\nClosed       Electric                        1\n             VACANT APARTMENT                1\nIn Progress  Mold                            1\ndtype: int64"
                    },
                    "execution_count": 21,
                    "metadata": {},
                    "output_type": "execute_result"
                }
            ],
            "source": "#Number of submitted tickets that were closed: 2,133,331 (setting 800,000 as a threshold).\ndf_nyc311_full.groupby(['Status', 'Complaint Type']).size().sort_values(ascending=False)"
        },
        {
            "cell_type": "code",
            "execution_count": 22,
            "metadata": {},
            "outputs": [
                {
                    "data": {
                        "text/plain": "0           0\n1        1931\n2        1931\n3        1931\n4        1920\n5           0\n6        1931\n7        1931\n8           0\n9           0\n10       1931\n11          0\n12          0\n13          0\n14       1967\n15          0\n16       1963\n17       1931\n18       1931\n19       1973\n20          0\n21       1931\n22       1931\n23       1984\n24       1915\n25       1920\n26       1990\n27       2003\n28       1925\n29       1990\n         ... \n89824       0\n89825       0\n89826    1920\n89827    1987\n89828    1930\n89829    1965\n89830    1910\n89831       0\n89832    1899\n89833    1920\n89834    1940\n89835    1940\n89836    1940\n89837    1940\n89838    1940\n89839    1940\n89840    1910\n89841       0\n89842    1848\n89843    1956\n89844       0\n89845    1931\n89846       0\n89847       0\n89848       0\n89849       0\n89850       0\n89851       0\n89852       0\n89853       0\nName: YearBuilt, Length: 89854, dtype: int64"
                    },
                    "execution_count": 22,
                    "metadata": {},
                    "output_type": "execute_result"
                }
            ],
            "source": "#Age of buildings can be determined from the PLUTO dataset.\ndf_bx['YearBuilt']"
        },
        {
            "cell_type": "code",
            "execution_count": 23,
            "metadata": {},
            "outputs": [],
            "source": "#Methodologies that can be used for further identification in whether any relationship exist between the building characteristics and the number of complaints:\n#Pearson Correlation, Feature Importance function from Random Forest algorithm, Feature Importance function from XGBoost algorithm."
        },
        {
            "cell_type": "code",
            "execution_count": 24,
            "metadata": {
                "scrolled": true
            },
            "outputs": [
                {
                    "name": "stdout",
                    "output_type": "stream",
                    "text": "<class 'pandas.core.frame.DataFrame'>\nRangeIndex: 6019843 entries, 0 to 6019842\nData columns (total 16 columns):\nComplaint Number          int64\nUnique Key                int64\nCreated Date              object\nClosed Date               object\nComplaint Type            object\nLocation Type             object\nIncident Zip              float64\nIncident Address          object\nStreet Name               object\nAddress Type              object\nCity                      object\nStatus                    object\nResolution Description    object\nBorough                   object\nLatitude                  float64\nLongitude                 float64\ndtypes: float64(3), int64(2), object(11)\nmemory usage: 734.8+ MB\n"
                }
            ],
            "source": "#The cardinality of the data in PLUTO dataset is NOT at the same level as the complaint dataset.\ndf_nyc311_full.info()"
        },
        {
            "cell_type": "code",
            "execution_count": 25,
            "metadata": {},
            "outputs": [
                {
                    "data": {
                        "text/plain": "count             5967018\nunique             182600\ntop       34 ARDEN STREET\nfreq                14298\nName: Incident Address, dtype: object"
                    },
                    "execution_count": 25,
                    "metadata": {},
                    "output_type": "execute_result"
                }
            ],
            "source": "#The cardinality of the data in PLUTO dataset is NOT at the same level as the complaint dataset.\ndf_nyc311_full['Incident Address'].describe()"
        },
        {
            "cell_type": "code",
            "execution_count": 26,
            "metadata": {
                "scrolled": true
            },
            "outputs": [
                {
                    "name": "stdout",
                    "output_type": "stream",
                    "text": "<class 'pandas.core.frame.DataFrame'>\nRangeIndex: 89854 entries, 0 to 89853\nData columns (total 87 columns):\nBorough                 89854 non-null object\nBlock                   89854 non-null int64\nLot                     89854 non-null int64\nCD                      89854 non-null int64\nCT2010                  89447 non-null float64\nCB2010                  87342 non-null float64\nSchoolDist              89695 non-null float64\nCouncil                 89649 non-null float64\nZipCode                 89525 non-null float64\nFireComp                89568 non-null object\nPolicePrct              89692 non-null float64\nHealthCenterDistrict    89727 non-null float64\nHealthArea              89630 non-null float64\nSanitBoro               89235 non-null float64\nSanitDistrict           89238 non-null float64\nSanitSub                88789 non-null object\nAddress                 89785 non-null object\nZoneDist1               89795 non-null object\nZoneDist2               2553 non-null object\nZoneDist3               34 non-null object\nZoneDist4               2 non-null object\nOverlay1                8827 non-null object\nOverlay2                96 non-null object\nSPDist1                 4602 non-null object\nSPDist2                 0 non-null float64\nSPDist3                 0 non-null float64\nLtdHeight               0 non-null float64\nSplitZone               89788 non-null object\nBldgClass               89788 non-null object\nLandUse                 89440 non-null float64\nEasements               89854 non-null int64\nOwnerType               16374 non-null object\nOwnerName               89280 non-null object\nLotArea                 89854 non-null int64\nBldgArea                89854 non-null int64\nComArea                 89854 non-null int64\nResArea                 89854 non-null int64\nOfficeArea              89854 non-null int64\nRetailArea              89854 non-null int64\nGarageArea              89854 non-null int64\nStrgeArea               89854 non-null int64\nFactryArea              89854 non-null int64\nOtherArea               89854 non-null int64\nAreaSource              89854 non-null int64\nNumBldgs                89854 non-null int64\nNumFloors               89854 non-null float64\nUnitsRes                89854 non-null int64\nUnitsTotal              89854 non-null int64\nLotFront                89854 non-null float64\nLotDepth                89854 non-null float64\nBldgFront               89854 non-null float64\nBldgDepth               89854 non-null float64\nExt                     29034 non-null object\nProxCode                89788 non-null float64\nIrrLotCode              89788 non-null object\nLotType                 89788 non-null float64\nBsmtCode                89788 non-null float64\nAssessLand              89854 non-null int64\nAssessTot               89854 non-null int64\nExemptLand              89854 non-null int64\nExemptTot               89854 non-null int64\nYearBuilt               89854 non-null int64\nYearAlter1              89854 non-null int64\nYearAlter2              89854 non-null int64\nHistDist                854 non-null object\nLandmark                111 non-null object\nBuiltFAR                89854 non-null float64\nResidFAR                89854 non-null float64\nCommFAR                 89854 non-null float64\nFacilFAR                89854 non-null float64\nBoroCode                89854 non-null int64\nBBL                     89854 non-null int64\nCondoNo                 89854 non-null int64\nTract2010               89854 non-null int64\nXCoord                  86595 non-null float64\nYCoord                  86595 non-null float64\nZoneMap                 89817 non-null object\nZMCode                  1688 non-null object\nSanborn                 89735 non-null object\nTaxMap                  89735 non-null float64\nEDesigNum               1470 non-null object\nAPPBBL                  89788 non-null float64\nAPPDate                 10969 non-null object\nPLUTOMapID              89854 non-null int64\nFIRM07_FLAG             3511 non-null float64\nPFIRM15_FLAG            3332 non-null float64\nVersion                 89854 non-null object\ndtypes: float64(32), int64(30), object(25)\nmemory usage: 59.6+ MB\n"
                }
            ],
            "source": "#The cardinality of the data in PLUTO dataset is NOT at the same level as the complaint dataset.\ndf_bx.info()"
        },
        {
            "cell_type": "code",
            "execution_count": 27,
            "metadata": {},
            "outputs": [
                {
                    "data": {
                        "text/plain": "count           89785\nunique          87017\ntop       SHORE DRIVE\nfreq               42\nName: Address, dtype: object"
                    },
                    "execution_count": 27,
                    "metadata": {},
                    "output_type": "execute_result"
                }
            ],
            "source": "#The cardinality of the data in PLUTO dataset is NOT at the same level as the complaint dataset.\ndf_bx['Address'].describe()"
        },
        {
            "cell_type": "code",
            "execution_count": 28,
            "metadata": {},
            "outputs": [],
            "source": "#Some observations:\n#You can't use data for other complaint types to build the model in this scenario.\n#The features that you use to build the model can come from the datasets: Complaint Dataset, PLUTO Dataset and any other Dataset."
        }
    ],
    "metadata": {
        "kernelspec": {
            "display_name": "Python 3.6",
            "language": "python",
            "name": "python3"
        },
        "language_info": {
            "codemirror_mode": {
                "name": "ipython",
                "version": 3
            },
            "file_extension": ".py",
            "mimetype": "text/x-python",
            "name": "python",
            "nbconvert_exporter": "python",
            "pygments_lexer": "ipython3",
            "version": "3.6.9"
        }
    },
    "nbformat": 4,
    "nbformat_minor": 1
}